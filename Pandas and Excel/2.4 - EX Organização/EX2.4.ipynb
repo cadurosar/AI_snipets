{
 "cells": [
  {
   "cell_type": "markdown",
   "metadata": {},
   "source": [
    "# Enunciado\n",
    "\n",
    "As notas fiscais das empresas ConstruPUC, InfraPUC, LightPUC e TelePUC estão desorganizadas. Por sorte existem planilhas Excel que mostram o nome do cliente, o número da nota e a qual empresa ela pertence. Utilizando-se desses dados:\n",
    "\n",
    "* Crie uma pasta para cada empresa em Pastas Gabarito \n",
    "\n",
    "* Carregue e Junte todas as diferentes tabelas em uma só que contém uma coluna empresa que é o nome da planilha que o dado veio.\n",
    "\n",
    "* Copie as notas para a pasta da empresa correta em Pastas Gabarito, sendo o nome do arquivo sempre Nome do cliente.txt (usando a função copyfile de shutil)\n",
    "\n",
    "* Adicione um link para a nota correta em cada linha da tabela.\n",
    "\n",
    "* Salve a nova tabela em Planilhas Gabarito\n",
    "\n",
    "## Modificações possíveis\n",
    "\n",
    "* Não passar o nome das empresas e pedir pro aluno percorrer a pasta pra achar os nomes de empresa.\n",
    "\n",
    "* Não passar as funções de os e shutil e pedir para eles pesquisarem\n",
    "\n",
    "* Dificultar o trabalho podendo colocar notas que estão com um número diferente (garantindo que não existem 2 notas com distância de edição 1) ou nomes com erro de escrita (João e Joao, Jonas e Jona...)"
   ]
  },
  {
   "cell_type": "code",
   "execution_count": 1,
   "metadata": {
    "collapsed": true
   },
   "outputs": [],
   "source": [
    "import pandas as pd\n",
    "import os\n",
    "import shutil"
   ]
  },
  {
   "cell_type": "markdown",
   "metadata": {},
   "source": [
    "## Crie uma pasta para cada empresa em Pastas Gabarito "
   ]
  },
  {
   "cell_type": "code",
   "execution_count": 2,
   "metadata": {
    "collapsed": false
   },
   "outputs": [],
   "source": [
    "empresas = [\"ConstruPUC\",\"InfraPUC\",\"LightPUC\",\"TelePUC\"]\n",
    "\n",
    "for empresa in empresas:\n",
    "    os.mkdir(\"Pastas Gabarito/{}\".format(empresa))"
   ]
  },
  {
   "cell_type": "markdown",
   "metadata": {},
   "source": [
    "## Carregue e Junte todas as diferentes tabelas em uma só que contém uma coluna empresa que é o nome da planilha que o dado veio."
   ]
  },
  {
   "cell_type": "code",
   "execution_count": 3,
   "metadata": {
    "collapsed": false
   },
   "outputs": [],
   "source": [
    "dataframes = list()\n",
    "for empresa in empresas:\n",
    "    dataframe = pd.read_excel(\"dados/{}.xlsx\".format(empresa))\n",
    "    dataframe[\"Empresa\"] = empresa\n",
    "    dataframes.append(dataframe)\n",
    "todas_notas = pd.concat(dataframes)"
   ]
  },
  {
   "cell_type": "markdown",
   "metadata": {},
   "source": [
    "## Copie as notas para a pasta da empresa correta em Pastas Gabarito, sendo o nome do arquivo sempre Nome do cliente.txt\n",
    "\n",
    "### Método Funcional"
   ]
  },
  {
   "cell_type": "code",
   "execution_count": 4,
   "metadata": {
    "collapsed": false
   },
   "outputs": [],
   "source": [
    "def copy_notes(linha):\n",
    "    caminho_de = None\n",
    "    caminho_para = \"Pastas Gabarito/{0}/{1}.txt\".format(linha[\"Empresa\"],linha[\"Nome\"])\n",
    "    caminho_nota_numero = \"dados/Nota {0}.txt\".format(linha[\"Numero\"])\n",
    "    caminho_numero = \"dados/{}.txt\".format(linha[\"Numero\"])\n",
    "    caminho_nome = \"dados/{}.txt\".format(linha[\"Nome\"])\n",
    "    caminhos = [caminho_nome,caminho_numero,caminho_nota_numero]\n",
    "    for caminho in caminhos:\n",
    "        if os.path.isfile(caminho):\n",
    "            caminho_de = caminho\n",
    "    if caminho_de is None:\n",
    "        \n",
    "        raise Exception(\"File not found exception numero {} empresa {}\".format(linha[\"Numero\"],linha[\"Empresa\"]))\n",
    "    shutil.copyfile(caminho_de,caminho_para)\n",
    "todas_notas.apply(lambda x: copy_notes(x),axis = 1);"
   ]
  },
  {
   "cell_type": "markdown",
   "metadata": {},
   "source": [
    "### Método Iterativo"
   ]
  },
  {
   "cell_type": "code",
   "execution_count": 5,
   "metadata": {
    "collapsed": false
   },
   "outputs": [],
   "source": [
    "for indice,linha in todas_notas.iterrows():\n",
    "    caminho_de = None\n",
    "    caminho_para = \"Pastas Gabarito/{0}/{1}.txt\".format(linha[\"Empresa\"],linha[\"Nome\"])\n",
    "    caminho_nota_numero = \"dados/Nota {0}.txt\".format(linha[\"Numero\"])\n",
    "    caminho_numero = \"dados/{}.txt\".format(linha[\"Numero\"])\n",
    "    caminho_nome = \"dados/{}.txt\".format(linha[\"Nome\"])\n",
    "    caminhos = [caminho_nome,caminho_numero,caminho_nota_numero]\n",
    "    for caminho in caminhos:\n",
    "        if os.path.isfile(caminho):\n",
    "            caminho_de = caminho\n",
    "    if caminho_de is None:\n",
    "        raise Exception(\"File not found exception numero {} empresa {}\".format(linha[\"Numero\"],linha[\"Empresa\"]))\n",
    "    shutil.copyfile(caminho_de,caminho_para)"
   ]
  },
  {
   "cell_type": "markdown",
   "metadata": {},
   "source": [
    "## Adicione um link para a nota correta em cada linha da tabela."
   ]
  },
  {
   "cell_type": "code",
   "execution_count": 6,
   "metadata": {
    "collapsed": false
   },
   "outputs": [],
   "source": [
    "def create_link(linha):\n",
    "    the_string = \"=HYPERLINK(\\\"../Pastas Gabarito/{0}/{1}.txt\\\",\\\"Link\\\")\".format(linha[\"Empresa\"],linha[\"Nome\"])\n",
    "    return the_string\n",
    "todas_notas[\"Link\"] = todas_notas.apply(lambda x: create_link(x),axis = 1)"
   ]
  },
  {
   "cell_type": "markdown",
   "metadata": {},
   "source": [
    "## Salve a nova tabela"
   ]
  },
  {
   "cell_type": "code",
   "execution_count": 7,
   "metadata": {
    "collapsed": false
   },
   "outputs": [],
   "source": [
    "todas_notas.to_excel(\"Planilhas Gabarito/gabarito.xlsx\",index=False)"
   ]
  }
 ],
 "metadata": {
  "anaconda-cloud": {},
  "kernelspec": {
   "display_name": "Python 3",
   "language": "python",
   "name": "python3"
  },
  "language_info": {
   "codemirror_mode": {
    "name": "ipython",
    "version": 3
   },
   "file_extension": ".py",
   "mimetype": "text/x-python",
   "name": "python",
   "nbconvert_exporter": "python",
   "pygments_lexer": "ipython3",
   "version": "3.6.0"
  }
 },
 "nbformat": 4,
 "nbformat_minor": 2
}
