{
 "cells": [
  {
   "cell_type": "code",
   "execution_count": 54,
   "metadata": {
    "collapsed": false
   },
   "outputs": [
    {
     "data": {
      "text/plain": [
       "15    4.7\n",
       "Name: Mae, dtype: float64"
      ]
     },
     "execution_count": 54,
     "metadata": {},
     "output_type": "execute_result"
    }
   ],
   "source": [
    "import pandas as pd\n",
    "mae = pd.read_csv(\"mae.csv\", squeeze=True, decimal=\",\")\n",
    "pai = pd.read_csv(\"pai.csv\", squeeze=True, decimal=\",\")\n",
    "\n",
    "mae[(mae > 4) & (mae < 5)]"
   ]
  },
  {
   "cell_type": "code",
   "execution_count": 111,
   "metadata": {
    "collapsed": false
   },
   "outputs": [
    {
     "data": {
      "text/plain": [
       "Mae\n",
       "(0, 4]       Axes(0.125,0.125;0.775x0.755)\n",
       "(4, 5]       Axes(0.125,0.125;0.775x0.755)\n",
       "(5, 6]       Axes(0.125,0.125;0.775x0.755)\n",
       "(6, 7]       Axes(0.125,0.125;0.775x0.755)\n",
       "(7, 8]       Axes(0.125,0.125;0.775x0.755)\n",
       "(8, 10.1]    Axes(0.125,0.125;0.775x0.755)\n",
       "Name: Mae, dtype: object"
      ]
     },
     "execution_count": 111,
     "metadata": {},
     "output_type": "execute_result"
    },
    {
     "data": {
      "image/png": "[encoded data removed]",
      "text/plain": [
       "<matplotlib.figure.Figure at 0x7f98b8ef8eb8>"
      ]
     },
     "metadata": {},
     "output_type": "display_data"
    }
   ],
   "source": [
    "serie_conjunto =  pd.cut(mae,bins=[0,4,5,6,7,8,mae.max()], \n",
    "                                     right=True)\n",
    "\n",
    "%matplotlib inline\n",
    "mae.groupby(serie_conjunto).plot.barh(legend=True)"
   ]
  },
  {
   "cell_type": "code",
   "execution_count": 82,
   "metadata": {
    "collapsed": true
   },
   "outputs": [],
   "source": [
    "df_mae = pd.read_csv(\"mae.csv\", decimal=\",\")\n",
    "\n"
   ]
  },
  {
   "cell_type": "code",
   "execution_count": null,
   "metadata": {
    "collapsed": true
   },
   "outputs": [],
   "source": []
  }
 ],
 "metadata": {
  "anaconda-cloud": {},
  "hide_input": false,
  "kernelspec": {
   "display_name": "Python [default]",
   "language": "python",
   "name": "python3"
  },
  "language_info": {
   "codemirror_mode": {
    "name": "ipython",
    "version": 3
   },
   "file_extension": ".py",
   "mimetype": "text/x-python",
   "name": "python",
   "nbconvert_exporter": "python",
   "pygments_lexer": "ipython3",
   "version": "3.5.2"
  }
 },
 "nbformat": 4,
 "nbformat_minor": 1
}
