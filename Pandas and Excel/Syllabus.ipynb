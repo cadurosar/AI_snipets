{
 "cells": [
  {
   "cell_type": "markdown",
   "metadata": {},
   "source": [
    "# Sumário\n",
    "\n",
    "1 - Instalação\n",
    "\n",
    "    1.1 - Python/Jupyter\n",
    "\n",
    "    1.2 - Pacotes\n",
    "    \n",
    "2 - Aulas\n",
    "\n",
    "    2.1 - Introdução ao Excel  ( 1 aula)\n",
    "\n",
    "    2.2 - Introdução ao Pandas ( 2 aulas)\n",
    "    \n",
    "    2.3 - Exercício com 1 Tabela - Tabela Brasileirao 2016 (1/2 aulas)\n",
    "    \n",
    "    2.4 - Exercício com Várias Tabelas - Organizaçao de Arquivos (1 aula)\n",
    "    \n",
    "    2.5 - Exercícios Extras: Mercado Financeiro (1 tabela), Ranking Brasileirao Pontos Corridos (Várias Tabelas)\n",
    "    \n",
    "\n",
    "# 1. Instalacao\n",
    "\n",
    "## 1.1 Python/Jupyter\n",
    "\n",
    "Para instalar o python e o [jupyter notebook](https://www.continuum.io/downloads#linux) (ferramenta utilizada para escrever as aulas/exercícios), recomendo usar o [anaconda](https://www.continuum.io/downloads#windows) que facilita a instalacao e configuraçao de python em Linux, Windows e Mac, além de ter varios pacotes python datascience pré-instalados. Caso queiram instalar uma versão sem os pacotes de datascience podem faze-lo com o [miniconda](https://conda.io/miniconda.html)\n",
    "\n",
    "## 1.2 Pacotes\n",
    "\n",
    "Instalado o python e o jupyter (via anaconda ou nao), temos que instalar os pacotes necessarios para as aulas. Para isso primeiro temos que abrir o jupyter notebook. Parto do príncipio que o jupyter já foi instalado (via anaconda ou via pip install jupyter senão).\n",
    "\n",
    "Windows -> Va até o diretorio que contem os arquivos do curso ->  shift+clique direito -> open command window here -> jupyter notebook .\n",
    "Linux/Mac -> abra o terminal -> va até o diretorio que contem os arquivos do curso -> jupyter notebook .\n",
    "\n",
    "Um browser será aberto com o jupyter rodando. Nele você verá todos os arquivos do curso. Para iniciar a instalaçao dos pacotes abra o arquivo syllabus que sera igual a essa pagina html onde você esta vendo essas informaçoes porém com possibilidade de execuçao. Clique em Kernel e Restart & Run All para rodar todo o notebook que se encarregara de instalar os pacotes.\n",
    "\n",
    "# 2. Aulas\n",
    "\n",
    "## 2.1 Introdução ao Excel - 1 Aula\n",
    "\n",
    "Mostrar um pouco como funciona o excel em uma aula\n",
    "\n",
    "## 2.2 Introdução ao Pandas - 2 aulas\n",
    "\n",
    "Para a introduçao ao pandas recomendo o tutorial https://github.com/fonnesbeck/statistical-analysis-python-tutorial. Provavelmente o ideal seria resumir os tutoriais 1,2,3 num so, talvez com menos informaçao para 2 aulas.\n",
    "\n",
    "## 2.3 Exercicio com 1 Tabela - Tabela Brasileirao 2016 (1/2 aulas)\n",
    "\n",
    "No primeiro exercicio a idéia é praticar os conceitos aprendidos utilizando os dados de uma unica tabela. Para isso vamos utilizar um arquivo excel com os jogos do Brasileirao 2016 e gerar a tabela de classificação dos mandantes, dos visitantes e do campeonato em geral.\n",
    "\n",
    "## 2.4 Exercicio com Varias Tabelas - Organizaçao de Arquivos (1 aula)\n",
    "\n",
    "No segundo exercicio a idéia é pegar varios arquivos que simulam notas fiscais de uma empresa que estao desorganizados e organizar em pastas dependendo da planilha que o mesmo se encontra.\n",
    "\n",
    "## 2.5 - Exercícios Extras: Mercado Financeiro (1 tabela), Ranking Brasileirao Pontos Corridos (Varias Tabelas)\n",
    "\n",
    "Exercicios para caso sobre tempo. Um seria com uma tabela de indices financeiros, fazer graficos com eles e gerar médias,desvios padroes de indices etc. O outro seria pegar o mesmo codigo de 1 tabela, e usar em varios para mostrar uma das vantagens do pandas, o mesmo script pode ser re-utilizado. Um ultimo exercicio extra poderia ser um mini scraper baseado numa tabela de links."
   ]
  },
  {
   "cell_type": "code",
   "execution_count": 4,
   "metadata": {
    "collapsed": false
   },
   "outputs": [
    {
     "name": "stdout",
     "output_type": "stream",
     "text": [
      "Fetching package metadata .........\n",
      "Solving package specifications: .\n",
      "\n",
      "Package plan for installation in environment /home/cadu/anaconda3:\n",
      "\n",
      "The following NEW packages will be INSTALLED:\n",
      "\n",
      "    libgpuarray: 0.6.8-0     \n",
      "    mako:        1.0.6-py35_0\n",
      "    pygpu:       0.6.8-py35_0\n",
      "    theano:      0.9.0-py35_0\n",
      "\n",
      "libgpuarray-0. 100% |################################| Time: 0:00:00   2.81 MB/s\n",
      "mako-1.0.6-py3 100% |################################| Time: 0:00:00   4.15 MB/s\n",
      "pygpu-0.6.8-py 100% |################################| Time: 0:00:00   3.72 MB/s\n",
      "theano-0.9.0-p 100% |################################| Time: 0:00:01   4.15 MB/s\n"
     ]
    }
   ],
   "source": [
    "!conda install -y theano"
   ]
  },
  {
   "cell_type": "code",
   "execution_count": null,
   "metadata": {
    "collapsed": true
   },
   "outputs": [],
   "source": []
  },
  {
   "cell_type": "code",
   "execution_count": null,
   "metadata": {
    "collapsed": true
   },
   "outputs": [],
   "source": []
  }
 ],
 "metadata": {
  "anaconda-cloud": {},
  "hide_input": false,
  "kernelspec": {
   "display_name": "Python [default]",
   "language": "python",
   "name": "python3"
  },
  "language_info": {
   "codemirror_mode": {
    "name": "ipython",
    "version": 3
   },
   "file_extension": ".py",
   "mimetype": "text/x-python",
   "name": "python",
   "nbconvert_exporter": "python",
   "pygments_lexer": "ipython3",
   "version": "3.5.2"
  }
 },
 "nbformat": 4,
 "nbformat_minor": 2
}
