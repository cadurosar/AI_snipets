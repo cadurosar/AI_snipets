{
 "cells": [
  {
   "cell_type": "markdown",
   "metadata": {},
   "source": [
    "# Pseudocódigo do perceptron\n",
    "\n",
    "\n",
    "```\n",
    "perceptron(dataset,w,bias,max)\n",
    "    error <- true\n",
    "    count=0\n",
    "    while error and count < max\n",
    "        error <- false\n",
    "        count <- count + 1\n",
    "        for (x,y) in dataset\n",
    "            y_chapeu <- signal(w.x + bias)\n",
    "            if y_chapeu != y\n",
    "                w <- w + y*x\n",
    "                bias <- bias + y\n",
    "                error <- true\n",
    "```\n",
    "\n",
    "Onde:\n",
    "\n",
    "* $W$ é a vetor de pesos.\n",
    "\n",
    "* $x$ é o vetor de entrada\n",
    "\n",
    "* $y$ é o valor esperado\n",
    "\n",
    "* $\\hat{y}$ é o valor calculado\n",
    "\n",
    "* $bias$ é o bias.\n",
    "\n",
    "# Pseudocódigo da signal\n",
    "\n",
    "```\n",
    "signal(value)\n",
    "    boolean_value = value>0\n",
    "    return 2*boolean_value-1\n",
    "```\n"
   ]
  },
  {
   "cell_type": "code",
   "execution_count": 17,
   "metadata": {
    "collapsed": true
   },
   "outputs": [],
   "source": [
    "def signal(value):\n",
    "    boolean_value = value > 0\n",
    "    return 2*boolean_value-1\n",
    "\n",
    "def perceptron(dataset,W,bias,_max=1000):\n",
    "    error = True\n",
    "    count = 0\n",
    "    \n",
    "    while error and count < _max:\n",
    "        error = False\n",
    "        count += 1\n",
    "        for _dict in dataset:\n",
    "            x = _dict[\"x\"]\n",
    "            y = _dict[\"y\"]\n",
    "            w_dot_x = 0\n",
    "            for _x, _W in zip(x,W): \n",
    "                w_dot_x += _x*_W\n",
    "            y_chapeu = signal(w_dot_x + bias)\n",
    "            W_old = W.copy()\n",
    "            if y != y_chapeu:\n",
    "                error = True\n",
    "                bias += y\n",
    "                for index, _x in enumerate(x):\n",
    "                    W[index] += y*_x\n",
    "    return not error, bias,count"
   ]
  },
  {
   "cell_type": "markdown",
   "metadata": {},
   "source": [
    "# Criação dos datasets\n",
    "\n",
    "Dataset binário para AND, OR e XOR"
   ]
  },
  {
   "cell_type": "code",
   "execution_count": 18,
   "metadata": {
    "collapsed": true
   },
   "outputs": [],
   "source": [
    "dataset_and = [\n",
    "    dict(x=[0,0], y=-1),\n",
    "    dict(x=[0,1], y=-1),\n",
    "    dict(x=[1,0], y=-1),\n",
    "    dict(x=[1,1], y=1),\n",
    "]\n",
    "W_and = [0,0]\n",
    "bias_and = 0\n",
    "\n",
    "dataset_or = [\n",
    "    dict(x=[0,0], y=-1),\n",
    "    dict(x=[0,1], y=1),\n",
    "    dict(x=[1,0], y=1),\n",
    "    dict(x=[1,1], y=1),\n",
    "]\n",
    "W_or = [0,0]\n",
    "bias = 0\n",
    "bias_or = 0\n",
    "\n",
    "dataset_xor = [\n",
    "    dict(x=[0,0], y=-1),\n",
    "    dict(x=[0,1], y=1),\n",
    "    dict(x=[1,0], y=1),\n",
    "    dict(x=[1,1], y=-1),\n",
    "]\n",
    "W_xor = [0,0]\n",
    "bias_xor = 0\n"
   ]
  },
  {
   "cell_type": "markdown",
   "metadata": {},
   "source": [
    "# Teste para o and"
   ]
  },
  {
   "cell_type": "code",
   "execution_count": 20,
   "metadata": {},
   "outputs": [
    {
     "data": {
      "text/plain": [
       "(True, 1, -2, [2, 1])"
      ]
     },
     "execution_count": 20,
     "metadata": {},
     "output_type": "execute_result"
    }
   ],
   "source": [
    "retorno, bias_and,count = perceptron(\n",
    "    dataset_and,W_and,bias_and)\n",
    "retorno,count,bias_and,W_and"
   ]
  },
  {
   "cell_type": "markdown",
   "metadata": {},
   "source": [
    "# Teste para o or"
   ]
  },
  {
   "cell_type": "code",
   "execution_count": 21,
   "metadata": {},
   "outputs": [
    {
     "data": {
      "text/plain": [
       "(True, 4, 0, [1, 1])"
      ]
     },
     "execution_count": 21,
     "metadata": {},
     "output_type": "execute_result"
    }
   ],
   "source": [
    "retorno, bias_or,count = perceptron(\n",
    "    dataset_or,W_or,bias_or)\n",
    "retorno,count,bias_or,W_or"
   ]
  },
  {
   "cell_type": "markdown",
   "metadata": {},
   "source": [
    "# Teste para o xor"
   ]
  },
  {
   "cell_type": "code",
   "execution_count": 22,
   "metadata": {},
   "outputs": [
    {
     "data": {
      "text/plain": [
       "(False, 1000, 1, [-1, 0])"
      ]
     },
     "execution_count": 22,
     "metadata": {},
     "output_type": "execute_result"
    }
   ],
   "source": [
    "retorno, bias_xor,count = perceptron(\n",
    "    dataset_xor,W_xor,bias_xor)\n",
    "retorno,count,bias_xor,W_xor"
   ]
  },
  {
   "cell_type": "markdown",
   "metadata": {},
   "source": [
    "O xor é impossível com os dados atuais pois temos uma impossibilidade lógica\n",
    "\n",
    "<center> $x = [0,0]$ $y = -1$. <b>Logo</b> $bias \\leq 0$</center>\n",
    "<center> $x = [1,0]$ $y = 1$. <b>Logo</b> $-bias \\leq W[0] $</center>\n",
    "<center> $x = [0,1]$ $y = 1$. <b>Logo</b> $-bias \\leq W[1] $</center>\n",
    "<center> $x = [1,1]$ $y = -1$. <b>Logo</b> $W[0] + W[1] \\leq -bias$</center>\n",
    "\n",
    "<center>$bias \\leq 0 \\implies |bias| = - bias$  </center>\n",
    "\n",
    "<center>Então\n",
    "\n",
    "$$ |bias| \\leq W[0] \\implies W[0] \\geq 0 $$\n",
    "$$ |bias| \\leq W[1] \\implies W[1] \\geq 0$$\n",
    "$$ W[0] + W[1] \\leq |bias|$$\n",
    "\n",
    "logo\n",
    "\n",
    "$$ W[0] \\geq |bias| \\land W[1] \\geq |bias| \\land W[0] + W[1] \\leq |bias| $$\n",
    "\n",
    "<h1>Impossível</h1>\n",
    "</center>"
   ]
  },
  {
   "cell_type": "markdown",
   "metadata": {},
   "source": [
    "## Solução?\n",
    "\n",
    "Para resolvermos esse problema vamos adicionar um valor para a entrada que é o valor do and entre os dois valores de entrada. Feito isso teremos:\n",
    "\n",
    "<center> $x = [0,0,0]$ $y = -1$. <b>Logo</b> $bias \\leq 0$</center>\n",
    "<center> $x = [1,0,0]$ $y = 1$. <b>Logo</b> $-bias \\leq W[0] $</center>\n",
    "<center> $x = [0,1,0]$ $y = 1$. <b>Logo</b> $-bias \\leq W[1] $</center>\n",
    "<center> $x = [1,1,1]$ $y = -1$. <b>Logo</b> $W[0] + W[1] + W[2] \\leq -bias$</center>\n",
    "\n",
    "<center>$bias \\leq 0 \\implies |bias| = - bias$  </center>\n",
    "\n",
    "<center>Então\n",
    "\n",
    "$$ |bias| \\leq W[0] \\implies W[0] \\geq 0 $$\n",
    "$$ |bias| \\leq W[1] \\implies W[1] \\geq 0$$\n",
    "$$ W[0] + W[1] + W[2] \\leq |bias|$$\n",
    "\n",
    "logo\n",
    "\n",
    "$$ W[0] \\geq |bias| \\land W[1] \\geq |bias| \\land W[2] \\leq |bias| - |W[0]| - |W[1]| $$\n",
    "\n",
    "<h1>Não impossível</h1>\n",
    "</center>"
   ]
  },
  {
   "cell_type": "code",
   "execution_count": 23,
   "metadata": {},
   "outputs": [
    {
     "data": {
      "text/plain": [
       "(True, 8, 0, [1, 1, -3])"
      ]
     },
     "execution_count": 23,
     "metadata": {},
     "output_type": "execute_result"
    }
   ],
   "source": [
    "dataset_xor = [\n",
    "    dict(x=[0,0,0], y=-1),\n",
    "    dict(x=[1,0,0], y=1),\n",
    "    dict(x=[0,1,0], y=1),\n",
    "    dict(x=[1,1,1], y=-1),\n",
    "]\n",
    "W_xor = [0,0,0]\n",
    "bias_xor = 0\n",
    "retorno, bias_xor,count = perceptron(\n",
    "    dataset_xor,W_xor,bias_xor)\n",
    "retorno,count,bias_xor,W_xor"
   ]
  }
 ],
 "metadata": {
  "kernelspec": {
   "display_name": "Python [conda env:ml_ruy]",
   "language": "python",
   "name": "conda-env-ml_ruy-py"
  },
  "language_info": {
   "codemirror_mode": {
    "name": "ipython",
    "version": 3
   },
   "file_extension": ".py",
   "mimetype": "text/x-python",
   "name": "python",
   "nbconvert_exporter": "python",
   "pygments_lexer": "ipython3",
   "version": "3.6.2"
  }
 },
 "nbformat": 4,
 "nbformat_minor": 2
}
