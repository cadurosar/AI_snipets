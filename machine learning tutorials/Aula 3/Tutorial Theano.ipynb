{
 "cells": [
  {
   "cell_type": "markdown",
   "metadata": {},
   "source": [
    "# Theano Tutorial \n",
    "\n",
    "Theano é uma biblioteca Python que nos permitirá definir, otimizar e calcular expressões matemáticas com tensores (arrays multi-dimensionais eficientemente). \n",
    "\n",
    "Caracteristicas do [Theano](http://www.deeplearning.net/software/theano/):\n",
    "\n",
    "* __integração com numpy__ – Possibilidade de uso de numpy.ndarray como entrada para funções Theano.\n",
    "* __uso de gpu transparente__ – Utilização do mesmo código para executar em gpu e cpu.\n",
    "* __diferenciação simbólica__ – Theano calcula as derivadas para suas funções e parametros.\n",
    "* __otimizações para velocidade e estabilidade__ – Obtenha respostas corretas para funções complexas como $log(1+x)$ mesmo se x for muito pequeno.\n",
    "* __geração de código C dinâmico__ – Execução mais rápida.\n",
    "\n",
    "O material a seguir foi adaptado do material disponibilizado por James Bergstra em seu [github](https://github.com/jaberg/IPythonTheanoTutorials/)"
   ]
  },
  {
   "cell_type": "markdown",
   "metadata": {},
   "source": [
    "## Dica de import\n",
    "\n",
    "Normalmente o import do theano é feito da seguinte forma: "
   ]
  },
  {
   "cell_type": "code",
   "execution_count": 1,
   "metadata": {
    "collapsed": true
   },
   "outputs": [],
   "source": [
    "import theano\n",
    "import theano.tensor as T"
   ]
  },
  {
   "cell_type": "markdown",
   "metadata": {},
   "source": [
    "A idéia é separar funções theano de funções aplicadas a tensores."
   ]
  },
  {
   "cell_type": "markdown",
   "metadata": {},
   "source": [
    "## Introdução rápida ao numpy\n",
    "\n",
    "Dado que a maioria das operações Theano seguem as mesmas normas das operações em vetores numpy o ideal é conhecer um pouco de numpy para testes rápidos, isso para evitar ter que compilar a função inteira para verificar se um operador funciona da maneira que você imaginou/entendeu da descrição.\n",
    "\n",
    "Por exemplo, abaixo faremos a multiplicação de um escalar $a$ por um vetor de tamanho 3 $b$"
   ]
  },
  {
   "cell_type": "code",
   "execution_count": 2,
   "metadata": {},
   "outputs": [
    {
     "data": {
      "text/plain": [
       "array([2, 4, 6])"
      ]
     },
     "execution_count": 2,
     "metadata": {},
     "output_type": "execute_result"
    }
   ],
   "source": [
    "import numpy as np\n",
    "a = 2\n",
    "b = np.array([1,2,3])\n",
    "a*b"
   ]
  },
  {
   "cell_type": "markdown",
   "metadata": {},
   "source": [
    "Acima podemos ver que a multiplicação aconteceu elemento a elemento, como se o escalar 2 fosse um vetor [2,2,2] isso acontece pois ambos numpy e theano implementam broadcasting. Isso quer dizer que se um dos elementos da operação possui menos dimensões ou um valor 1 em alguma dimensão a biblioteca ira tentar espelhar o elemento maior para manter o tipo.\n",
    "\n",
    "Podemos extender o exemplo para o caso de um vetor $a_2$ de tamanho 2 e uma matriz $b_2$ de tamanho [3,2]"
   ]
  },
  {
   "cell_type": "code",
   "execution_count": 17,
   "metadata": {},
   "outputs": [
    {
     "data": {
      "text/plain": [
       "array([[ 2,  6],\n",
       "       [ 6, 12],\n",
       "       [10, -3]])"
      ]
     },
     "execution_count": 17,
     "metadata": {},
     "output_type": "execute_result"
    }
   ],
   "source": [
    "a_2 = np.array([2,3])\n",
    "b_2 = np.array([[1,2],[3,4],[5,-1]])\n",
    "a_2*b_2"
   ]
  },
  {
   "cell_type": "markdown",
   "metadata": {},
   "source": [
    "## Theano - parametros, expressões simbólicas e execução\n",
    "\n",
    "Para repetirmos os calculos feitos em numpy com Theano precisaremos de alguns passos a mais. Isto vem do fato que o Theano precisa compilar o cálculo a ser executado baseado numa linguagem de programação simbólica.\n",
    "\n",
    "Se quisermos repetir $a.b$ teremos que fazer:  "
   ]
  },
  {
   "cell_type": "code",
   "execution_count": 19,
   "metadata": {},
   "outputs": [
    {
     "data": {
      "text/plain": [
       "array([2, 4, 6])"
      ]
     },
     "execution_count": 19,
     "metadata": {},
     "output_type": "execute_result"
    }
   ],
   "source": [
    "symbolic_a = T.lscalar('a')\n",
    "symbolic_b = T.lvector('b')\n",
    "a_vezes_b = symbolic_a*symbolic_b\n",
    "a_vezes_b.eval({symbolic_a:a,symbolic_b:b})"
   ]
  },
  {
   "cell_type": "markdown",
   "metadata": {},
   "source": [
    "Podemos ver que temos 3 passos, declaração de parametros, geração de uma expressão simbólica e execução\n",
    "\n",
    "### Declaração de parametros\n",
    "\n",
    "Para fazermos a conexão entre o que queremos utilizar como parametros para nosso cálculo e os valores utilizados no cálculo precisamos declarar nossos parametros\n",
    "\n",
    "```\n",
    "symbolic_a = T.iscalar('a')\n",
    "symbolic_b = T.ivector('b')\n",
    "```\n",
    "\n",
    "Aqui declaramos que as variaveis python symbolic_a e symbolic_b representam um escalar inteiro longo, ou seja int64, $a$ e um vetor de inteiros longos $b$.\n",
    "\n",
    "Podemos utilizar vários tipos de parametros como:\n",
    "\n",
    "* **byte**: ``bscalar, bvector, bmatrix, brow, bcol, btensor3, btensor4``\n",
    "* **16-bit integers**: ``wscalar, wvector, wmatrix, wrow, wcol, wtensor3, wtensor4``\n",
    "* **32-bit integers**: ``iscalar, ivector, imatrix, irow, icol, itensor3, itensor4``\n",
    "* **64-bit integers**: ``lscalar, lvector, lmatrix, lrow, lcol, ltensor3, ltensor4``\n",
    "* **float**: ``fscalar, fvector, fmatrix, frow, fcol, ftensor3, ftensor4``\n",
    "* **double**: ``dscalar, dvector, dmatrix, drow, dcol, dtensor3, dtensor4``\n",
    "* **complex**: ``cscalar, cvector, cmatrix, crow, ccol, ctensor3, ctensor4``\n",
    "\n",
    "A lista completa de tipos está disponível [aqui](http://deeplearning.net/software/theano/library/tensor/basic.html#creation)\n",
    "\n",
    "### Expressão simbólica\n",
    "\n",
    "Dado que temos os nossos parametros como variáveis python, agora podemos gerar expressões simbólicas com os mesmos, simplesmente usando as operações matemáticas do python como\n",
    "\n",
    "```\n",
    "a_vezes_b = symbolic_a*symbolic_b\n",
    "```\n",
    "\n",
    "Onde estamos guardando a expressão simbólica de $a.b$ em uma variável chamada a_vezes_b. Essa variável possui a expressão e não o resultado, para obtermos o resultado precisamos executar a expressão passando paramêtros\n",
    "\n",
    "### Execução de expressões\n",
    "\n",
    "Agora que temos uma expressão podemos executá-la passando diferentes valores de a e b com \n",
    "\n",
    "```\n",
    "a_vezes_b.eval({symbolic_a:a,symbolic_b:b})\n",
    "```\n",
    "\n",
    "Nesse caso estamos pedindo para que o Theano avalie o resultado de a vezes b baseado nos valores $a$ para o simbolo $a$ e b para o simbolo $b$. Poderiamos passar diferentes valores e utilizar o eval como uma função."
   ]
  },
  {
   "cell_type": "code",
   "execution_count": 20,
   "metadata": {},
   "outputs": [
    {
     "data": {
      "text/plain": [
       "array([2, 4, 6])"
      ]
     },
     "execution_count": 20,
     "metadata": {},
     "output_type": "execute_result"
    }
   ],
   "source": [
    "dict_params = {symbolic_a:a,symbolic_b:b}\n",
    "a_vezes_b.eval(dict_params)"
   ]
  },
  {
   "cell_type": "code",
   "execution_count": 21,
   "metadata": {},
   "outputs": [
    {
     "data": {
      "text/plain": [
       "array([20, 25, 35])"
      ]
     },
     "execution_count": 21,
     "metadata": {},
     "output_type": "execute_result"
    }
   ],
   "source": [
    "dict_params = {symbolic_a:5,symbolic_b:np.array([4,5,7])}\n",
    "a_vezes_b.eval(dict_params)"
   ]
  },
  {
   "cell_type": "markdown",
   "metadata": {},
   "source": [
    "Porém, não podemos usar $a_2$ e $b_2$ na função pois os tipos dos parametros não são os mesmos"
   ]
  },
  {
   "cell_type": "code",
   "execution_count": 23,
   "metadata": {},
   "outputs": [
    {
     "ename": "TypeError",
     "evalue": "Bad input argument to theano function with name \"<ipython-input-19-3ee22a3660e9>:4\" at index 0 (0-based).  \nBacktrace when that variable is created:\n\n  File \"/home/cadu/anaconda3/envs/ml_ruy/lib/python3.6/site-packages/ipykernel/kernelbase.py\", line 235, in dispatch_shell\n    handler(stream, idents, msg)\n  File \"/home/cadu/anaconda3/envs/ml_ruy/lib/python3.6/site-packages/ipykernel/kernelbase.py\", line 399, in execute_request\n    user_expressions, allow_stdin)\n  File \"/home/cadu/anaconda3/envs/ml_ruy/lib/python3.6/site-packages/ipykernel/ipkernel.py\", line 196, in do_execute\n    res = shell.run_cell(code, store_history=store_history, silent=silent)\n  File \"/home/cadu/anaconda3/envs/ml_ruy/lib/python3.6/site-packages/ipykernel/zmqshell.py\", line 533, in run_cell\n    return super(ZMQInteractiveShell, self).run_cell(*args, **kwargs)\n  File \"/home/cadu/anaconda3/envs/ml_ruy/lib/python3.6/site-packages/IPython/core/interactiveshell.py\", line 2717, in run_cell\n    interactivity=interactivity, compiler=compiler, result=result)\n  File \"/home/cadu/anaconda3/envs/ml_ruy/lib/python3.6/site-packages/IPython/core/interactiveshell.py\", line 2821, in run_ast_nodes\n    if self.run_code(code, result):\n  File \"/home/cadu/anaconda3/envs/ml_ruy/lib/python3.6/site-packages/IPython/core/interactiveshell.py\", line 2881, in run_code\n    exec(code_obj, self.user_global_ns, self.user_ns)\n  File \"<ipython-input-19-3ee22a3660e9>\", line 1, in <module>\n    symbolic_a = T.lscalar('a')\nWrong number of dimensions: expected 0, got 1 with shape (2,).",
     "output_type": "error",
     "traceback": [
      "\u001b[0;31m---------------------------------------------------------------------------\u001b[0m",
      "\u001b[0;31mTypeError\u001b[0m                                 Traceback (most recent call last)",
      "\u001b[0;32m<ipython-input-23-fffbdeab1f0e>\u001b[0m in \u001b[0;36m<module>\u001b[0;34m()\u001b[0m\n\u001b[1;32m      1\u001b[0m \u001b[0mdict_params\u001b[0m \u001b[0;34m=\u001b[0m \u001b[0;34m{\u001b[0m\u001b[0msymbolic_a\u001b[0m\u001b[0;34m:\u001b[0m\u001b[0ma_2\u001b[0m\u001b[0;34m,\u001b[0m\u001b[0msymbolic_b\u001b[0m\u001b[0;34m:\u001b[0m\u001b[0mb_2\u001b[0m\u001b[0;34m}\u001b[0m\u001b[0;34m\u001b[0m\u001b[0m\n\u001b[0;32m----> 2\u001b[0;31m \u001b[0ma_vezes_b\u001b[0m\u001b[0;34m.\u001b[0m\u001b[0meval\u001b[0m\u001b[0;34m(\u001b[0m\u001b[0mdict_params\u001b[0m\u001b[0;34m)\u001b[0m\u001b[0;34m\u001b[0m\u001b[0m\n\u001b[0m",
      "\u001b[0;32m/home/cadu/anaconda3/envs/ml_ruy/lib/python3.6/site-packages/theano/gof/graph.py\u001b[0m in \u001b[0;36meval\u001b[0;34m(self, inputs_to_values)\u001b[0m\n\u001b[1;32m    517\u001b[0m         \u001b[0margs\u001b[0m \u001b[0;34m=\u001b[0m \u001b[0;34m[\u001b[0m\u001b[0minputs_to_values\u001b[0m\u001b[0;34m[\u001b[0m\u001b[0mparam\u001b[0m\u001b[0;34m]\u001b[0m \u001b[0;32mfor\u001b[0m \u001b[0mparam\u001b[0m \u001b[0;32min\u001b[0m \u001b[0minputs\u001b[0m\u001b[0;34m]\u001b[0m\u001b[0;34m\u001b[0m\u001b[0m\n\u001b[1;32m    518\u001b[0m \u001b[0;34m\u001b[0m\u001b[0m\n\u001b[0;32m--> 519\u001b[0;31m         \u001b[0mrval\u001b[0m \u001b[0;34m=\u001b[0m \u001b[0mself\u001b[0m\u001b[0;34m.\u001b[0m\u001b[0m_fn_cache\u001b[0m\u001b[0;34m[\u001b[0m\u001b[0minputs\u001b[0m\u001b[0;34m]\u001b[0m\u001b[0;34m(\u001b[0m\u001b[0;34m*\u001b[0m\u001b[0margs\u001b[0m\u001b[0;34m)\u001b[0m\u001b[0;34m\u001b[0m\u001b[0m\n\u001b[0m\u001b[1;32m    520\u001b[0m \u001b[0;34m\u001b[0m\u001b[0m\n\u001b[1;32m    521\u001b[0m         \u001b[0;32mreturn\u001b[0m \u001b[0mrval\u001b[0m\u001b[0;34m\u001b[0m\u001b[0m\n",
      "\u001b[0;32m/home/cadu/anaconda3/envs/ml_ruy/lib/python3.6/site-packages/theano/compile/function_module.py\u001b[0m in \u001b[0;36m__call__\u001b[0;34m(self, *args, **kwargs)\u001b[0m\n\u001b[1;32m    793\u001b[0m                         s.storage[0] = s.type.filter(\n\u001b[1;32m    794\u001b[0m                             \u001b[0marg\u001b[0m\u001b[0;34m,\u001b[0m \u001b[0mstrict\u001b[0m\u001b[0;34m=\u001b[0m\u001b[0ms\u001b[0m\u001b[0;34m.\u001b[0m\u001b[0mstrict\u001b[0m\u001b[0;34m,\u001b[0m\u001b[0;34m\u001b[0m\u001b[0m\n\u001b[0;32m--> 795\u001b[0;31m                             allow_downcast=s.allow_downcast)\n\u001b[0m\u001b[1;32m    796\u001b[0m \u001b[0;34m\u001b[0m\u001b[0m\n\u001b[1;32m    797\u001b[0m                     \u001b[0;32mexcept\u001b[0m \u001b[0mException\u001b[0m \u001b[0;32mas\u001b[0m \u001b[0me\u001b[0m\u001b[0;34m:\u001b[0m\u001b[0;34m\u001b[0m\u001b[0m\n",
      "\u001b[0;32m/home/cadu/anaconda3/envs/ml_ruy/lib/python3.6/site-packages/theano/tensor/type.py\u001b[0m in \u001b[0;36mfilter\u001b[0;34m(self, data, strict, allow_downcast)\u001b[0m\n\u001b[1;32m    176\u001b[0m             raise TypeError(\"Wrong number of dimensions: expected %s,\"\n\u001b[1;32m    177\u001b[0m                             \" got %s with shape %s.\" % (self.ndim, data.ndim,\n\u001b[0;32m--> 178\u001b[0;31m                                                         data.shape))\n\u001b[0m\u001b[1;32m    179\u001b[0m         \u001b[0;32mif\u001b[0m \u001b[0;32mnot\u001b[0m \u001b[0mdata\u001b[0m\u001b[0;34m.\u001b[0m\u001b[0mflags\u001b[0m\u001b[0;34m.\u001b[0m\u001b[0maligned\u001b[0m\u001b[0;34m:\u001b[0m\u001b[0;34m\u001b[0m\u001b[0m\n\u001b[1;32m    180\u001b[0m             \u001b[0;32mtry\u001b[0m\u001b[0;34m:\u001b[0m\u001b[0;34m\u001b[0m\u001b[0m\n",
      "\u001b[0;31mTypeError\u001b[0m: Bad input argument to theano function with name \"<ipython-input-19-3ee22a3660e9>:4\" at index 0 (0-based).  \nBacktrace when that variable is created:\n\n  File \"/home/cadu/anaconda3/envs/ml_ruy/lib/python3.6/site-packages/ipykernel/kernelbase.py\", line 235, in dispatch_shell\n    handler(stream, idents, msg)\n  File \"/home/cadu/anaconda3/envs/ml_ruy/lib/python3.6/site-packages/ipykernel/kernelbase.py\", line 399, in execute_request\n    user_expressions, allow_stdin)\n  File \"/home/cadu/anaconda3/envs/ml_ruy/lib/python3.6/site-packages/ipykernel/ipkernel.py\", line 196, in do_execute\n    res = shell.run_cell(code, store_history=store_history, silent=silent)\n  File \"/home/cadu/anaconda3/envs/ml_ruy/lib/python3.6/site-packages/ipykernel/zmqshell.py\", line 533, in run_cell\n    return super(ZMQInteractiveShell, self).run_cell(*args, **kwargs)\n  File \"/home/cadu/anaconda3/envs/ml_ruy/lib/python3.6/site-packages/IPython/core/interactiveshell.py\", line 2717, in run_cell\n    interactivity=interactivity, compiler=compiler, result=result)\n  File \"/home/cadu/anaconda3/envs/ml_ruy/lib/python3.6/site-packages/IPython/core/interactiveshell.py\", line 2821, in run_ast_nodes\n    if self.run_code(code, result):\n  File \"/home/cadu/anaconda3/envs/ml_ruy/lib/python3.6/site-packages/IPython/core/interactiveshell.py\", line 2881, in run_code\n    exec(code_obj, self.user_global_ns, self.user_ns)\n  File \"<ipython-input-19-3ee22a3660e9>\", line 1, in <module>\n    symbolic_a = T.lscalar('a')\nWrong number of dimensions: expected 0, got 1 with shape (2,)."
     ]
    }
   ],
   "source": [
    "dict_params = {symbolic_a:a_2,symbolic_b:b_2}\n",
    "a_vezes_b.eval(dict_params)"
   ]
  },
  {
   "cell_type": "markdown",
   "metadata": {},
   "source": [
    "### Criação de funções\n",
    "\n",
    "A execução de expressão não é a maneira mais eficiente de trabalhar com Theano. A cada vez temos que passar todos os simbolos e o que eles significam, o mais fácil seria transformar isso em uma função. Isso é possível da seguinte maneira:"
   ]
  },
  {
   "cell_type": "code",
   "execution_count": 24,
   "metadata": {},
   "outputs": [
    {
     "data": {
      "text/plain": [
       "[array([2, 4, 6])]"
      ]
     },
     "execution_count": 24,
     "metadata": {},
     "output_type": "execute_result"
    }
   ],
   "source": [
    "f = theano.function(\n",
    "    inputs=[symbolic_a,symbolic_b],\n",
    "    outputs=[a_vezes_b])\n",
    "f(a,b)"
   ]
  },
  {
   "cell_type": "markdown",
   "metadata": {},
   "source": [
    "Implicitamente o eval faz exatamente isso. Ele compila uma função que é chamada a cada vez que utilizamos eval. Também podemos nos aproveitar do function para adicionar mais do que um retorno, por exemplo, se quisessemos $a.b$ e $a+b$ poderiamos fazer:"
   ]
  },
  {
   "cell_type": "code",
   "execution_count": 25,
   "metadata": {},
   "outputs": [
    {
     "data": {
      "text/plain": [
       "[array([2, 4, 6]), array([4, 6, 8])]"
      ]
     },
     "execution_count": 25,
     "metadata": {},
     "output_type": "execute_result"
    }
   ],
   "source": [
    "a_vezes_b_mais_2 = a_vezes_b + 2\n",
    "f = theano.function(\n",
    "    inputs=[symbolic_a,symbolic_b],\n",
    "    outputs=[a_vezes_b, a_vezes_b_mais_2])\n",
    "f(a,b)"
   ]
  },
  {
   "cell_type": "markdown",
   "metadata": {
    "collapsed": true
   },
   "source": [
    "### Valores atualizaveis em funções\n",
    "\n",
    "Imaginemos agora que além de calcular $a.b$ e $a+b$ nós precisamos guardar o acumulado da soma de ambos os resultados. Para isso utilizaremos um tipo de varíavel especial chamado shared. \n",
    "\n",
    "Esse procedimento pode não parecer fazer muito sentido para esse caso de exemplo. Porém é primordial para a atualização de pesos de uma rede neural por exemplo."
   ]
  },
  {
   "cell_type": "code",
   "execution_count": 29,
   "metadata": {},
   "outputs": [
    {
     "name": "stdout",
     "output_type": "stream",
     "text": [
      "0\n"
     ]
    }
   ],
   "source": [
    "acumulador = theano.shared(np.int64(0))\n",
    "update = acumulador+a_vezes_b.sum()+a_vezes_b_mais_2.sum()\n",
    "f = theano.function(inputs=[symbolic_a,symbolic_b],\n",
    "                    outputs=[a_vezes_b, a_vezes_b_mais_2],\n",
    "                    updates=[(acumulador,update)])\n",
    "print(acumulador.get_value())"
   ]
  },
  {
   "cell_type": "code",
   "execution_count": 30,
   "metadata": {},
   "outputs": [
    {
     "name": "stdout",
     "output_type": "stream",
     "text": [
      "30\n"
     ]
    }
   ],
   "source": [
    "f(a,b)\n",
    "print(acumulador.get_value())"
   ]
  },
  {
   "cell_type": "code",
   "execution_count": 31,
   "metadata": {},
   "outputs": [
    {
     "name": "stdout",
     "output_type": "stream",
     "text": [
      "60\n"
     ]
    }
   ],
   "source": [
    "f(a,b)\n",
    "print(acumulador.get_value())"
   ]
  },
  {
   "cell_type": "code",
   "execution_count": 32,
   "metadata": {},
   "outputs": [
    {
     "name": "stdout",
     "output_type": "stream",
     "text": [
      "90\n"
     ]
    }
   ],
   "source": [
    "f(a,b)\n",
    "print(acumulador.get_value())"
   ]
  },
  {
   "cell_type": "markdown",
   "metadata": {},
   "source": [
    "### Calculo de gradiente\n",
    "\n",
    "Theano pode derivar facilmente as suas expressões simbólicas. Isso nos permite facilmente buscar o minimo de uma função usando a derivada.\n",
    "\n",
    "Exemplo, $x^2+x-2$ se chutarmos um valor inicial e atualizarmos x via *stochastic gradient descent*: $$x = x + l_r.\\frac{\\partial_{formula}(x)}{\\partial_x}$$ onde $l_r$ é um learning rate suficientemente pequeno eventualmente chegaremos a dos minimos da função.\n",
    "\n",
    "$$l_r = -0.25$$\n",
    "\n",
    "$$formula(x) = x^2+x-2$$\n",
    "\n",
    "$$\\frac{\\partial_{formula}(x)}{\\partial_x} = 2x - 1$$\n",
    "\n",
    "$$x_{i+1} = x_i - l_r.(2x_i-1)$$\n",
    "\n",
    "Como a fórmula é facil, trivialmente podemos obter o minimo igualando a derivada parcial a 0\n",
    "\n",
    "$$2x-1 = 0 \\implies x = -\\frac{1}{2}$$\n",
    "\n",
    "$$formula(0.5) = 0.25-0.5-2 = -2.25 $$"
   ]
  },
  {
   "cell_type": "code",
   "execution_count": 33,
   "metadata": {},
   "outputs": [
    {
     "name": "stdout",
     "output_type": "stream",
     "text": [
      "EPOCH 1\n",
      "Formula = -2.0\n",
      "Gradiente = 1.0\n",
      "X utilizado = 0.0\n",
      "\n",
      "EPOCH 2\n",
      "Formula = -2.1875\n",
      "Gradiente = 0.5\n",
      "X utilizado = -0.25\n",
      "\n",
      "EPOCH 3\n",
      "Formula = -2.234375\n",
      "Gradiente = 0.25\n",
      "X utilizado = -0.375\n",
      "\n",
      "EPOCH 4\n",
      "Formula = -2.24609375\n",
      "Gradiente = 0.125\n",
      "X utilizado = -0.4375\n",
      "\n",
      "EPOCH 5\n",
      "Formula = -2.2490234375\n",
      "Gradiente = 0.0625\n",
      "X utilizado = -0.46875\n",
      "\n",
      "EPOCH 6\n",
      "Formula = -2.249755859375\n",
      "Gradiente = 0.03125\n",
      "X utilizado = -0.484375\n",
      "\n",
      "EPOCH 7\n",
      "Formula = -2.24993896484375\n",
      "Gradiente = 0.015625\n",
      "X utilizado = -0.4921875\n",
      "\n",
      "EPOCH 8\n",
      "Formula = -2.2499847412109375\n",
      "Gradiente = 0.0078125\n",
      "X utilizado = -0.49609375\n",
      "\n",
      "EPOCH 9\n",
      "Formula = -2.2499961853027344\n",
      "Gradiente = 0.00390625\n",
      "X utilizado = -0.498046875\n",
      "\n",
      "EPOCH 10\n",
      "Formula = -2.2499990463256836\n",
      "Gradiente = 0.001953125\n",
      "X utilizado = -0.4990234375\n",
      "\n"
     ]
    },
    {
     "data": {
      "text/plain": [
       "(-0.5, -2.25, 10)"
      ]
     },
     "execution_count": 33,
     "metadata": {},
     "output_type": "execute_result"
    },
    {
     "data": {
      "image/png": "[encoded data removed]",
      "text/plain": [
       "<matplotlib.figure.Figure at 0x7f7dff02e208>"
      ]
     },
     "metadata": {},
     "output_type": "display_data"
    }
   ],
   "source": [
    "import matplotlib.pyplot as plt\n",
    "%matplotlib inline\n",
    "\n",
    "x = theano.shared(0.)\n",
    "formula = x*x + x - 2\n",
    "x_grad = T.grad(formula,x)\n",
    "updates = x-0.25*x_grad\n",
    "minimize = theano.function(\n",
    "    inputs=[], \n",
    "    outputs=[formula,x_grad,x],\n",
    "    updates=[(x,updates)])\n",
    "convergiu = False\n",
    "count = 0\n",
    "x_values = []\n",
    "y_values = []\n",
    "while not convergiu and count < 1000:\n",
    "    count += 1\n",
    "    formula_result, grad, x_used = minimize()\n",
    "    print(\"EPOCH {}\".format(count))\n",
    "    print(\"Formula = {}\\nGradiente = {}\\nX utilizado = {}\".format(\n",
    "            formula_result,grad,x_used))\n",
    "    print()\n",
    "    convergiu = np.isclose(x_used, x.get_value(),rtol=1e-3)\n",
    "    x_values.append(x_used)\n",
    "    y_values.append(formula_result)\n",
    "plt.scatter(np.arange(len(y_values)),y_values)\n",
    "x.get_value().round(2),formula_result.round(2),count"
   ]
  },
  {
   "cell_type": "markdown",
   "metadata": {},
   "source": [
    "Se tivessemos escolhido uma formula mais complicada como:\n",
    "\n",
    "$$formula = x^6+x^5-x^4+x^3-x^2+x-2$$\n",
    "\n",
    "Teriamos\n",
    "\n",
    "$$ l_r = 0.025 $$\n",
    "\n",
    "$$\\frac{d_{formula}(x)}{d_x} = 6x^5+5x^4-4x^3+3x^2-2x+1$$\n",
    "\n",
    "$$x_{i+1} = x_i - l_r.(6x^5_i+5x^4_i-4x^3_i+3x^2_i-2x_i+1)$$\n",
    "\n",
    "\n",
    "Nesse caso não é tão trivial encontrar o resultado. Consultando o wolfram podemos [Verificar](https://www.wolframalpha.com/input/?i=min(x**6+%2B+x**5+-+x**4+%2B+x**3+-+x**2+%2B+x+-+2)"
   ]
  },
  {
   "cell_type": "code",
   "execution_count": 36,
   "metadata": {},
   "outputs": [
    {
     "name": "stdout",
     "output_type": "stream",
     "text": [
      "EPOCH 1\n",
      "Formula = -2.0\n",
      "Gradiente = 1.0\n",
      "X utilizado = 0.0\n",
      "\n",
      "EPOCH 2\n",
      "Formula = -2.0256410251464847\n",
      "Gradiente = 1.0519393945312503\n",
      "X utilizado = -0.025\n",
      "\n",
      "EPOCH 3\n",
      "Formula = -2.054072275139246\n",
      "Gradiente = 1.1110640417416895\n",
      "X utilizado = -0.05129848486328126\n",
      "\n",
      "EPOCH 4\n",
      "Formula = -2.085864346891623\n",
      "Gradiente = 1.1790635057507726\n",
      "X utilizado = -0.0790750859068235\n",
      "\n",
      "EPOCH 5\n",
      "Formula = -2.1217665406564743\n",
      "Gradiente = 1.2581740202297031\n",
      "X utilizado = -0.10855167355059281\n",
      "\n",
      "EPOCH 6\n",
      "Formula = -2.1627825536743277\n",
      "Gradiente = 1.351392892137408\n",
      "X utilizado = -0.1400060240563354\n",
      "\n",
      "EPOCH 7\n",
      "Formula = -2.210286377151282\n",
      "Gradiente = 1.4627976204397808\n",
      "X utilizado = -0.1737908463597706\n",
      "\n",
      "EPOCH 8\n",
      "Formula = -2.266204747613573\n",
      "Gradiente = 1.598031276763521\n",
      "X utilizado = -0.21036078687076512\n",
      "\n",
      "EPOCH 9\n",
      "Formula = -2.3333133928213488\n",
      "Gradiente = 1.765057569253491\n",
      "X utilizado = -0.25031156878985317\n",
      "\n",
      "EPOCH 10\n",
      "Formula = -2.4157348508549403\n",
      "Gradiente = 1.9753623588298772\n",
      "X utilizado = -0.29443800802119047\n",
      "\n",
      "EPOCH 11\n",
      "Formula = -2.519807344206495\n",
      "Gradiente = 2.24590670053105\n",
      "X utilizado = -0.3438220669919374\n",
      "\n",
      "EPOCH 12\n",
      "Formula = -2.6556652353628643\n",
      "Gradiente = 2.602353234163715\n",
      "X utilizado = -0.39996973450521367\n",
      "\n",
      "EPOCH 13\n",
      "Formula = -2.840242019468354\n",
      "Gradiente = 3.0844065140264525\n",
      "X utilizado = -0.46502856535930653\n",
      "\n",
      "EPOCH 14\n",
      "Formula = -3.103224209151143\n",
      "Gradiente = 3.754320430661176\n",
      "X utilizado = -0.5421387282099679\n",
      "\n",
      "EPOCH 15\n",
      "Formula = -3.4992351095781653\n",
      "Gradiente = 4.708212801893861\n",
      "X utilizado = -0.6359967389764973\n",
      "\n",
      "EPOCH 16\n",
      "Formula = -4.132526325350969\n",
      "Gradiente = 6.078398964939316\n",
      "X utilizado = -0.7537020590238439\n",
      "\n",
      "EPOCH 17\n",
      "Formula = -5.19897825414127\n",
      "Gradiente = 7.951414990721421\n",
      "X utilizado = -0.9056620331473269\n",
      "\n",
      "EPOCH 18\n",
      "Formula = -6.987741197581467\n",
      "Gradiente = 9.836765296205334\n",
      "X utilizado = -1.1044474079153623\n",
      "\n",
      "EPOCH 19\n",
      "Formula = -9.388161725540034\n",
      "Gradiente = 8.705551560936069\n",
      "X utilizado = -1.3503665403204956\n",
      "\n",
      "EPOCH 20\n",
      "Formula = -10.54290750116941\n",
      "Gradiente = 0.2864048727049173\n",
      "X utilizado = -1.5680053293438974\n",
      "\n",
      "EPOCH 21\n",
      "Formula = -10.543318068849063\n",
      "Gradiente = -0.17406334746820828\n",
      "X utilizado = -1.5751654511615203\n",
      "\n",
      "EPOCH 22\n",
      "Formula = -10.543461096438897\n",
      "Gradiente = 0.10746007275212444\n",
      "X utilizado = -1.570813867474815\n",
      "\n",
      "EPOCH 23\n",
      "Formula = -10.543517597871821\n",
      "Gradiente = -0.06572678826350531\n",
      "X utilizado = -1.5735003692936183\n",
      "\n",
      "EPOCH 24\n",
      "Formula = -10.543538274768189\n",
      "Gradiente = 0.04043612108899364\n",
      "X utilizado = -1.5718571995870305\n",
      "\n"
     ]
    },
    {
     "data": {
      "text/plain": [
       "(-1.57287, -10.54354, 24)"
      ]
     },
     "execution_count": 36,
     "metadata": {},
     "output_type": "execute_result"
    },
    {
     "data": {
      "image/png": "[encoded data removed]",
      "text/plain": [
       "<matplotlib.figure.Figure at 0x7f7dfe108320>"
      ]
     },
     "metadata": {},
     "output_type": "display_data"
    }
   ],
   "source": [
    "\n",
    "x = theano.shared(0.)\n",
    "formula = x**6 + x**5 - x**4 + x**3 - x**2 + x - 2\n",
    "x_grad = T.grad(formula,x)\n",
    "updates = x-0.025*x_grad\n",
    "minimize = theano.function(\n",
    "    inputs=[], \n",
    "    outputs=[formula,x_grad,x],\n",
    "    updates=[(x,updates)])\n",
    "convergiu = False\n",
    "count = 0\n",
    "x_values = []\n",
    "y_values = []\n",
    "while not convergiu and count < 1000:\n",
    "    count += 1\n",
    "    formula_result, grad, x_used = minimize()\n",
    "    print(\"EPOCH {}\".format(count))\n",
    "    print(\"Formula = {}\\nGradiente = {}\\nX utilizado = {}\".format(\n",
    "            formula_result,grad,x_used))\n",
    "    print()\n",
    "    convergiu = np.isclose(x_used, x.get_value(),rtol=1e-3)\n",
    "    x_values.append(x_used)\n",
    "    y_values.append(formula_result)\n",
    "plt.scatter(np.arange(len(y_values)),y_values)\n",
    "x.get_value().round(5),formula_result.round(5),count"
   ]
  },
  {
   "cell_type": "code",
   "execution_count": null,
   "metadata": {
    "collapsed": true
   },
   "outputs": [],
   "source": []
  }
 ],
 "metadata": {
  "kernelspec": {
   "display_name": "Python [conda env:ml_ruy]",
   "language": "python",
   "name": "conda-env-ml_ruy-py"
  },
  "language_info": {
   "codemirror_mode": {
    "name": "ipython",
    "version": 3
   },
   "file_extension": ".py",
   "mimetype": "text/x-python",
   "name": "python",
   "nbconvert_exporter": "python",
   "pygments_lexer": "ipython3",
   "version": "3.6.2"
  }
 },
 "nbformat": 4,
 "nbformat_minor": 2
}
