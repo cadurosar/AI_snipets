{
 "cells": [
  {
   "cell_type": "markdown",
   "metadata": {},
   "source": [
    "# Pseudocódigo de predição\n",
    "\n",
    "```\n",
    "predict(x)\n",
    "    y_chapeu = self.w.x + self.bias\n",
    "    return self.activation(y_chapeu),y_chapeu\n",
    "    \n",
    "self.activation = signal\n",
    "```\n",
    "\n",
    "# Pseudocódigo da signal\n",
    "\n",
    "```\n",
    "signal(value)\n",
    "    boolean_value = value>0\n",
    "    return 2*boolean_value-1\n",
    "```\n",
    "\n",
    "# Pseudocódigo do custo\n",
    "\n",
    "```\n",
    "custo(predição,y_chapeu,y)\n",
    "    is_error = (predição-y)/2\n",
    "    return is_error*(y_chapeu-y)\n",
    "```\n",
    "\n",
    "# Pseudocódigo do treinamento\n",
    "\n",
    "```\n",
    "fit(x,y,max)\n",
    "    error <- 1\n",
    "    count <- 0\n",
    "    while error > 0 and count < max\n",
    "        error <- 0\n",
    "        count <- count + 1\n",
    "        for (_x,_y) in dataset\n",
    "            predição, y_chapeu <- self.predict(x)\n",
    "            local_error <- self.cost(predição,y_chapeu,y)\n",
    "            self.update_weights(x,y,local_error)\n",
    "            error <- error + abs(local_error)\n",
    "```\n",
    "\n",
    "# Pseudocódigo de atualização de pesos\n",
    "\n",
    "```\n",
    "update_weights(x,y,local_error)\n",
    "    self.w <- self.w + x*y*local_error\n",
    "    self.bias <- self.bias + y*local_error\n",
    "```\n",
    "\n",
    "Onde:\n",
    "\n",
    "* $W$ é a vetor de pesos.\n",
    "\n",
    "* $bias$ é o bias.\n",
    "\n",
    "* $x$ é o vetor de entrada\n",
    "\n",
    "* $y$ é o valor esperado\n",
    "\n",
    "* $\\hat{y}$ é o valor calculado\n",
    "\n",
    "\n"
   ]
  },
  {
   "cell_type": "code",
   "execution_count": 2,
   "metadata": {
    "collapsed": true
   },
   "outputs": [],
   "source": [
    "def signal(value):\n",
    "    boolean_value = value > 0\n",
    "    return 2*boolean_value-1\n",
    "\n",
    "class Perceptron(object):\n",
    "    \n",
    "    def __init__(self,x_example,activation,initial_value=0):\n",
    "        self.W = list()\n",
    "        self.bias = initial_value\n",
    "        for _ in range(len(x_example)):\n",
    "            self.W.append(initial_value)\n",
    "        self.activation = activation\n",
    "    \n",
    "    def w_dot_x(self,x):\n",
    "        w_dot_x = 0\n",
    "        for _x, _W in zip(x,self.W): \n",
    "            w_dot_x += _x*_W\n",
    "        return w_dot_x\n",
    "    \n",
    "    def predict(self,x):\n",
    "        y_chapeu = self.w_dot_x(x) + self.bias\n",
    "        return self.activation(y_chapeu), y_chapeu\n",
    "\n",
    "    def update_weights(self,x,y,local_error):\n",
    "        self.bias += y*local_error\n",
    "        for index, _x in enumerate(x):\n",
    "            self.W[index] += y*_x*local_error\n",
    "\n",
    "    def cost(self, predição, y_chapeu,y):\n",
    "        is_error = (predição-y)/2\n",
    "        return is_error*(y_chapeu-y)\n",
    "            \n",
    "    def fit(self,x,y,_max=1000):\n",
    "        error = 1\n",
    "        count = 0\n",
    "        while error > 0 and count < _max:\n",
    "            error = 0\n",
    "            count += 1\n",
    "            for _x,_y in zip(x,y):\n",
    "                predição, y_chapeu = self.predict(_x)\n",
    "                local_error = self.cost(predição,y_chapeu,_y)\n",
    "                self.update_weights(_x,_y,local_error)\n",
    "                error = error + abs(local_error)\n",
    "        return error == 0, count"
   ]
  },
  {
   "cell_type": "markdown",
   "metadata": {},
   "source": [
    "# Criação dos datasets\n",
    "\n",
    "Dataset binário para AND, OR e XOR"
   ]
  },
  {
   "cell_type": "code",
   "execution_count": 1,
   "metadata": {
    "collapsed": true
   },
   "outputs": [],
   "source": [
    "possible_x = [[0,0],[0,1],[1,0],[1,1]]\n",
    "\n",
    "dataset_and = dict(x=possible_x,y=[-1,-1,-1,1])\n",
    "dataset_or = dict(x=possible_x,y=[-1,1,1,1])\n",
    "dataset_xor = dict(x=possible_x,y=[-1,1,1,-1])"
   ]
  },
  {
   "cell_type": "markdown",
   "metadata": {},
   "source": [
    "# Teste para o and"
   ]
  },
  {
   "cell_type": "code",
   "execution_count": 3,
   "metadata": {},
   "outputs": [
    {
     "data": {
      "text/plain": [
       "((True, 3), [1.0, 1.0], -1.0)"
      ]
     },
     "execution_count": 3,
     "metadata": {},
     "output_type": "execute_result"
    }
   ],
   "source": [
    "and_perceptron = Perceptron(dataset_and[\"x\"][0],signal)\n",
    "result = and_perceptron.fit(**dataset_and)\n",
    "result, and_perceptron.W, and_perceptron.bias"
   ]
  },
  {
   "cell_type": "markdown",
   "metadata": {},
   "source": [
    "# Teste para o or"
   ]
  },
  {
   "cell_type": "code",
   "execution_count": 4,
   "metadata": {},
   "outputs": [
    {
     "data": {
      "text/plain": [
       "((True, 4), [2.0, 2.0], 0.0)"
      ]
     },
     "execution_count": 4,
     "metadata": {},
     "output_type": "execute_result"
    }
   ],
   "source": [
    "or_perceptron = Perceptron(dataset_or[\"x\"][0],signal)\n",
    "result = or_perceptron.fit(**dataset_or)\n",
    "result, or_perceptron.W, or_perceptron.bias"
   ]
  },
  {
   "cell_type": "markdown",
   "metadata": {},
   "source": [
    "# Teste para o xor"
   ]
  },
  {
   "cell_type": "code",
   "execution_count": 5,
   "metadata": {},
   "outputs": [
    {
     "data": {
      "text/plain": [
       "((False, 1000), [-4001.0, -2000.0], 1996.0)"
      ]
     },
     "execution_count": 5,
     "metadata": {},
     "output_type": "execute_result"
    }
   ],
   "source": [
    "xor_perceptron = Perceptron(dataset_xor[\"x\"][0],signal)\n",
    "result = xor_perceptron.fit(**dataset_xor)\n",
    "result, xor_perceptron.W, xor_perceptron.bias"
   ]
  },
  {
   "cell_type": "markdown",
   "metadata": {},
   "source": [
    "O xor é impossível com os dados atuais pois temos uma impossibilidade lógica\n",
    "\n",
    "<center> $x = [0,0]$ $y = -1$. <b>Logo</b> $bias \\leq 0$</center>\n",
    "<center> $x = [1,0]$ $y = 1$. <b>Logo</b> $-bias \\leq W[0] $</center>\n",
    "<center> $x = [0,1]$ $y = 1$. <b>Logo</b> $-bias \\leq W[1] $</center>\n",
    "<center> $x = [1,1]$ $y = -1$. <b>Logo</b> $W[0] + W[1] \\leq -bias$</center>\n",
    "\n",
    "<center>$bias \\leq 0 \\implies |bias| = - bias$  </center>\n",
    "\n",
    "<center>Então\n",
    "\n",
    "$$ |bias| \\leq W[0] \\implies W[0] \\geq 0 $$\n",
    "$$ |bias| \\leq W[1] \\implies W[1] \\geq 0$$\n",
    "$$ W[0] + W[1] \\leq |bias|$$\n",
    "\n",
    "logo\n",
    "\n",
    "$$ W[0] \\geq |bias| \\land W[1] \\geq |bias| \\land W[0] + W[1] \\leq |bias| $$\n",
    "\n",
    "<h1>Impossível</h1>\n",
    "</center>"
   ]
  },
  {
   "cell_type": "markdown",
   "metadata": {},
   "source": [
    "## Solução?\n",
    "\n",
    "Para resolvermos esse problema vamos adicionar um valor para a entrada que é o valor do and entre os dois valores de entrada. Feito isso teremos:\n",
    "\n",
    "<center> $x = [0,0,0]$ $y = -1$. <b>Logo</b> $bias \\leq 0$</center>\n",
    "<center> $x = [1,0,0]$ $y = 1$. <b>Logo</b> $-bias \\leq W[0] $</center>\n",
    "<center> $x = [0,1,0]$ $y = 1$. <b>Logo</b> $-bias \\leq W[1] $</center>\n",
    "<center> $x = [1,1,1]$ $y = -1$. <b>Logo</b> $W[0] + W[1] + W[2] \\leq -bias$</center>\n",
    "\n",
    "<center>$bias \\leq 0 \\implies |bias| = - bias$  </center>\n",
    "\n",
    "<center>Então\n",
    "\n",
    "$$ |bias| \\leq W[0] \\implies W[0] \\geq 0 $$\n",
    "$$ |bias| \\leq W[1] \\implies W[1] \\geq 0$$\n",
    "$$ W[0] + W[1] + W[2] \\leq |bias|$$\n",
    "\n",
    "logo\n",
    "\n",
    "$$ W[0] \\geq |bias| \\land W[1] \\geq |bias| \\land W[2] \\leq |bias| - |W[0]| - |W[1]| $$\n",
    "\n",
    "<h1>Não impossível</h1>\n",
    "</center>"
   ]
  },
  {
   "cell_type": "code",
   "execution_count": 6,
   "metadata": {},
   "outputs": [
    {
     "data": {
      "text/plain": [
       "((True, 7), [2.0, 2.0, -9.0], -1.0)"
      ]
     },
     "execution_count": 6,
     "metadata": {},
     "output_type": "execute_result"
    }
   ],
   "source": [
    "dataset_xor = dict(x=[[0,0,0],[0,1,0],[1,0,0],[1,1,1]],\n",
    "                   y=dataset_xor[\"y\"])\n",
    "\n",
    "xor_perceptron = Perceptron(dataset_xor[\"x\"][0],signal)\n",
    "result = xor_perceptron.fit(**dataset_xor)\n",
    "result, xor_perceptron.W, xor_perceptron.bias"
   ]
  }
 ],
 "metadata": {
  "kernelspec": {
   "display_name": "Python [conda env:ml_ruy]",
   "language": "python",
   "name": "conda-env-ml_ruy-py"
  },
  "language_info": {
   "codemirror_mode": {
    "name": "ipython",
    "version": 3
   },
   "file_extension": ".py",
   "mimetype": "text/x-python",
   "name": "python",
   "nbconvert_exporter": "python",
   "pygments_lexer": "ipython3",
   "version": "3.6.2"
  }
 },
 "nbformat": 4,
 "nbformat_minor": 2
}
